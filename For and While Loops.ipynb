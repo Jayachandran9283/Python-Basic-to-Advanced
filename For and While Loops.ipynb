{
 "cells": [
  {
   "cell_type": "code",
   "execution_count": 3,
   "metadata": {},
   "outputs": [
    {
     "name": "stdout",
     "output_type": "stream",
     "text": [
      "Enter the Mark: 100\n",
      "Enter the Mark: 100\n",
      "Enter the Mark: 100\n",
      "Enter the Mark: 100\n",
      "Enter the Mark: 100\n",
      "A Grade\n"
     ]
    }
   ],
   "source": [
    "lst=[]\n",
    "0,1,2,3,4\n",
    "for i in range(0,5):\n",
    "    mark=int(input(\"Enter the Mark: \"))\n",
    "    lst.append(mark)\n",
    "    \n",
    "sum1=sum(lst)\n",
    "avg= (sum1/len(lst))\n",
    "if avg >= 90:\n",
    "    print(\"A Grade\")\n",
    "elif avg >=70 and avg < 90:\n",
    "    print(\"B grade\")\n",
    "elif avg < 70:\n",
    "    print(\"C Grade\")\n",
    "else:\n",
    "    print(\"Invalid Marks\")\n",
    "    \n",
    "\n",
    "\n",
    "\n",
    "        "
   ]
  },
  {
   "cell_type": "code",
   "execution_count": 2,
   "metadata": {},
   "outputs": [
    {
     "name": "stdout",
     "output_type": "stream",
     "text": [
      "1505\n",
      "1540\n",
      "1575\n",
      "1610\n",
      "1645\n",
      "1680\n",
      "1715\n",
      "1750\n",
      "1785\n",
      "1820\n",
      "1855\n",
      "1890\n",
      "1925\n",
      "1960\n",
      "1995\n",
      "2030\n",
      "2065\n",
      "2100\n",
      "2135\n",
      "2170\n",
      "2205\n",
      "2240\n",
      "2275\n",
      "2310\n",
      "2345\n",
      "2380\n",
      "2415\n",
      "2450\n",
      "2485\n",
      "2520\n",
      "2555\n",
      "2590\n",
      "2625\n",
      "2660\n",
      "2695\n"
     ]
    }
   ],
   "source": [
    "for i in range(1500,2701):\n",
    "    if i%7==0 and i%5==0:\n",
    "        print(i)\n",
    "        "
   ]
  },
  {
   "cell_type": "code",
   "execution_count": 6,
   "metadata": {},
   "outputs": [
    {
     "data": {
      "text/plain": [
       "20"
      ]
     },
     "execution_count": 6,
     "metadata": {},
     "output_type": "execute_result"
    }
   ],
   "source": [
    "def max_num(a,b,c):\n",
    "    maximum=max(a,b,c)\n",
    "    return maximum\n",
    "    \n",
    "max_num(10,20,12)"
   ]
  },
  {
   "cell_type": "code",
   "execution_count": 19,
   "metadata": {},
   "outputs": [
    {
     "name": "stdout",
     "output_type": "stream",
     "text": [
      "*\n",
      "**\n",
      "***\n",
      "****\n",
      "*****\n",
      "****\n",
      "***\n",
      "**\n",
      "*\n",
      "\n"
     ]
    }
   ],
   "source": [
    "\n",
    "lst=[]\n",
    "for i in range(1,6):\n",
    "    print(i*'*')\n",
    "    i=i-1\n",
    "    lst.append(i)\n",
    "lst1=lst[::-1]\n",
    "for i in lst1:\n",
    "    print(i*'*')\n",
    "\n",
    "    \n",
    "    \n",
    "        \n",
    "    \n",
    "\n"
   ]
  },
  {
   "cell_type": "code",
   "execution_count": 20,
   "metadata": {},
   "outputs": [
    {
     "name": "stdout",
     "output_type": "stream",
     "text": [
      "*\n",
      "**\n",
      "***\n",
      "****\n",
      "*****\n",
      "****\n",
      "***\n",
      "**\n",
      "*\n",
      "\n"
     ]
    }
   ],
   "source": [
    "def pattern(num):\n",
    "    lst=[]\n",
    "    for i in range(1,num):\n",
    "        print(i*'*')\n",
    "        i=i-1\n",
    "        lst.append(i)\n",
    "        lst1=lst[::-1]\n",
    "    for i in lst1:\n",
    "        print(i*'*')\n",
    "pattern(6)"
   ]
  },
  {
   "cell_type": "code",
   "execution_count": null,
   "metadata": {},
   "outputs": [],
   "source": []
  }
 ],
 "metadata": {
  "kernelspec": {
   "display_name": "Python 3",
   "language": "python",
   "name": "python3"
  },
  "language_info": {
   "codemirror_mode": {
    "name": "ipython",
    "version": 3
   },
   "file_extension": ".py",
   "mimetype": "text/x-python",
   "name": "python",
   "nbconvert_exporter": "python",
   "pygments_lexer": "ipython3",
   "version": "3.8.3"
  }
 },
 "nbformat": 4,
 "nbformat_minor": 4
}
